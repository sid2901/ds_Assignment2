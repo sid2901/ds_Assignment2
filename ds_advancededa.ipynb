{
  "nbformat": 4,
  "nbformat_minor": 0,
  "metadata": {
    "colab": {
      "provenance": [],
      "mount_file_id": "1Ncz0ZdFWNb55G_gO-Rxee3ke1d1Q0o-L",
      "authorship_tag": "ABX9TyO0muCzWpIVEEe//pY+KHjb",
      "include_colab_link": true
    },
    "kernelspec": {
      "name": "python3",
      "display_name": "Python 3"
    },
    "language_info": {
      "name": "python"
    }
  },
  "cells": [
    {
      "cell_type": "markdown",
      "metadata": {
        "id": "view-in-github",
        "colab_type": "text"
      },
      "source": [
        "<a href=\"https://colab.research.google.com/github/sid2901/ds_Assignment2/blob/main/ds_advancededa.ipynb\" target=\"_parent\"><img src=\"https://colab.research.google.com/assets/colab-badge.svg\" alt=\"Open In Colab\"/></a>"
      ]
    },
    {
      "cell_type": "code",
      "execution_count": 2,
      "metadata": {
        "id": "lBp3rE5VGvlf"
      },
      "outputs": [],
      "source": [
        "# Import necessary libraries\n",
        "import pandas as pd\n",
        "import numpy as np\n",
        "import matplotlib.pyplot as plt\n",
        "import seaborn as sns\n"
      ]
    },
    {
      "cell_type": "code",
      "source": [
        "# For scaling and encoding\n",
        "from sklearn.preprocessing import StandardScaler\n",
        "from sklearn.model_selection import train_test_split\n"
      ],
      "metadata": {
        "id": "pG5TiPpDHXJc"
      },
      "execution_count": 3,
      "outputs": []
    },
    {
      "cell_type": "code",
      "source": [
        "# For modeling and metrics\n",
        "from sklearn.linear_model import LinearRegression\n",
        "from sklearn.ensemble import RandomForestRegressor\n",
        "from sklearn.metrics import r2_score, mean_squared_error, mean_absolute_error\n",
        "%matplotlib inline"
      ],
      "metadata": {
        "id": "3UbCEVg3Hf2D"
      },
      "execution_count": 4,
      "outputs": []
    },
    {
      "cell_type": "code",
      "source": [
        "# Part1 data loading and initial preprocessing\n",
        "# Load the Netflix dataset from the attached file (update the file path if needed)\n",
        "df = pd.read_csv(\"netflix_titles.csv\")\n",
        "# Clean the 'date_added' column: remove extra spaces and convert to datetime\n",
        "df['date_added'] = pd.to_datetime(df['date_added'].str.strip(), errors='coerce')\n",
        "df = df.dropna(subset=['date_added'])  # Remove rows with invalid dates\n",
        "\n",
        "# Extract the year when the content was added\n",
        "df['year_added'] = df['date_added'].dt.year\n",
        "\n",
        "# Display dataset info to verify data cleaning\n",
        "print(\"Dataset Information:\")\n",
        "print(df.info())\n",
        "print(df.head())"
      ],
      "metadata": {
        "colab": {
          "base_uri": "https://localhost:8080/",
          "height": 367
        },
        "id": "TDpgKpgVHqQM",
        "outputId": "2cc44faa-a7bf-40a7-9761-94f9a92fc89e"
      },
      "execution_count": 8,
      "outputs": [
        {
          "output_type": "error",
          "ename": "FileNotFoundError",
          "evalue": "[Errno 2] No such file or directory: '/netflix_titles.csv'",
          "traceback": [
            "\u001b[0;31m---------------------------------------------------------------------------\u001b[0m",
            "\u001b[0;31mFileNotFoundError\u001b[0m                         Traceback (most recent call last)",
            "\u001b[0;32m<ipython-input-8-a5bdd054dcc2>\u001b[0m in \u001b[0;36m<cell line: 0>\u001b[0;34m()\u001b[0m\n\u001b[1;32m      1\u001b[0m \u001b[0;31m# Part1 data loading and initial preprocessing\u001b[0m\u001b[0;34m\u001b[0m\u001b[0;34m\u001b[0m\u001b[0m\n\u001b[1;32m      2\u001b[0m \u001b[0;31m# Load the Netflix dataset from the attached file (update the file path if needed)\u001b[0m\u001b[0;34m\u001b[0m\u001b[0;34m\u001b[0m\u001b[0m\n\u001b[0;32m----> 3\u001b[0;31m \u001b[0mdf\u001b[0m \u001b[0;34m=\u001b[0m \u001b[0mpd\u001b[0m\u001b[0;34m.\u001b[0m\u001b[0mread_csv\u001b[0m\u001b[0;34m(\u001b[0m\u001b[0;34m\"/netflix_titles.csv\"\u001b[0m\u001b[0;34m)\u001b[0m\u001b[0;34m\u001b[0m\u001b[0;34m\u001b[0m\u001b[0m\n\u001b[0m\u001b[1;32m      4\u001b[0m \u001b[0;31m# Clean the 'date_added' column: remove extra spaces and convert to datetime\u001b[0m\u001b[0;34m\u001b[0m\u001b[0;34m\u001b[0m\u001b[0m\n\u001b[1;32m      5\u001b[0m \u001b[0mdf\u001b[0m\u001b[0;34m[\u001b[0m\u001b[0;34m'date_added'\u001b[0m\u001b[0;34m]\u001b[0m \u001b[0;34m=\u001b[0m \u001b[0mpd\u001b[0m\u001b[0;34m.\u001b[0m\u001b[0mto_datetime\u001b[0m\u001b[0;34m(\u001b[0m\u001b[0mdf\u001b[0m\u001b[0;34m[\u001b[0m\u001b[0;34m'date_added'\u001b[0m\u001b[0;34m]\u001b[0m\u001b[0;34m.\u001b[0m\u001b[0mstr\u001b[0m\u001b[0;34m.\u001b[0m\u001b[0mstrip\u001b[0m\u001b[0;34m(\u001b[0m\u001b[0;34m)\u001b[0m\u001b[0;34m,\u001b[0m \u001b[0merrors\u001b[0m\u001b[0;34m=\u001b[0m\u001b[0;34m'coerce'\u001b[0m\u001b[0;34m)\u001b[0m\u001b[0;34m\u001b[0m\u001b[0;34m\u001b[0m\u001b[0m\n",
            "\u001b[0;32m/usr/local/lib/python3.11/dist-packages/pandas/io/parsers/readers.py\u001b[0m in \u001b[0;36mread_csv\u001b[0;34m(filepath_or_buffer, sep, delimiter, header, names, index_col, usecols, dtype, engine, converters, true_values, false_values, skipinitialspace, skiprows, skipfooter, nrows, na_values, keep_default_na, na_filter, verbose, skip_blank_lines, parse_dates, infer_datetime_format, keep_date_col, date_parser, date_format, dayfirst, cache_dates, iterator, chunksize, compression, thousands, decimal, lineterminator, quotechar, quoting, doublequote, escapechar, comment, encoding, encoding_errors, dialect, on_bad_lines, delim_whitespace, low_memory, memory_map, float_precision, storage_options, dtype_backend)\u001b[0m\n\u001b[1;32m   1024\u001b[0m     \u001b[0mkwds\u001b[0m\u001b[0;34m.\u001b[0m\u001b[0mupdate\u001b[0m\u001b[0;34m(\u001b[0m\u001b[0mkwds_defaults\u001b[0m\u001b[0;34m)\u001b[0m\u001b[0;34m\u001b[0m\u001b[0;34m\u001b[0m\u001b[0m\n\u001b[1;32m   1025\u001b[0m \u001b[0;34m\u001b[0m\u001b[0m\n\u001b[0;32m-> 1026\u001b[0;31m     \u001b[0;32mreturn\u001b[0m \u001b[0m_read\u001b[0m\u001b[0;34m(\u001b[0m\u001b[0mfilepath_or_buffer\u001b[0m\u001b[0;34m,\u001b[0m \u001b[0mkwds\u001b[0m\u001b[0;34m)\u001b[0m\u001b[0;34m\u001b[0m\u001b[0;34m\u001b[0m\u001b[0m\n\u001b[0m\u001b[1;32m   1027\u001b[0m \u001b[0;34m\u001b[0m\u001b[0m\n\u001b[1;32m   1028\u001b[0m \u001b[0;34m\u001b[0m\u001b[0m\n",
            "\u001b[0;32m/usr/local/lib/python3.11/dist-packages/pandas/io/parsers/readers.py\u001b[0m in \u001b[0;36m_read\u001b[0;34m(filepath_or_buffer, kwds)\u001b[0m\n\u001b[1;32m    618\u001b[0m \u001b[0;34m\u001b[0m\u001b[0m\n\u001b[1;32m    619\u001b[0m     \u001b[0;31m# Create the parser.\u001b[0m\u001b[0;34m\u001b[0m\u001b[0;34m\u001b[0m\u001b[0m\n\u001b[0;32m--> 620\u001b[0;31m     \u001b[0mparser\u001b[0m \u001b[0;34m=\u001b[0m \u001b[0mTextFileReader\u001b[0m\u001b[0;34m(\u001b[0m\u001b[0mfilepath_or_buffer\u001b[0m\u001b[0;34m,\u001b[0m \u001b[0;34m**\u001b[0m\u001b[0mkwds\u001b[0m\u001b[0;34m)\u001b[0m\u001b[0;34m\u001b[0m\u001b[0;34m\u001b[0m\u001b[0m\n\u001b[0m\u001b[1;32m    621\u001b[0m \u001b[0;34m\u001b[0m\u001b[0m\n\u001b[1;32m    622\u001b[0m     \u001b[0;32mif\u001b[0m \u001b[0mchunksize\u001b[0m \u001b[0;32mor\u001b[0m \u001b[0miterator\u001b[0m\u001b[0;34m:\u001b[0m\u001b[0;34m\u001b[0m\u001b[0;34m\u001b[0m\u001b[0m\n",
            "\u001b[0;32m/usr/local/lib/python3.11/dist-packages/pandas/io/parsers/readers.py\u001b[0m in \u001b[0;36m__init__\u001b[0;34m(self, f, engine, **kwds)\u001b[0m\n\u001b[1;32m   1618\u001b[0m \u001b[0;34m\u001b[0m\u001b[0m\n\u001b[1;32m   1619\u001b[0m         \u001b[0mself\u001b[0m\u001b[0;34m.\u001b[0m\u001b[0mhandles\u001b[0m\u001b[0;34m:\u001b[0m \u001b[0mIOHandles\u001b[0m \u001b[0;34m|\u001b[0m \u001b[0;32mNone\u001b[0m \u001b[0;34m=\u001b[0m \u001b[0;32mNone\u001b[0m\u001b[0;34m\u001b[0m\u001b[0;34m\u001b[0m\u001b[0m\n\u001b[0;32m-> 1620\u001b[0;31m         \u001b[0mself\u001b[0m\u001b[0;34m.\u001b[0m\u001b[0m_engine\u001b[0m \u001b[0;34m=\u001b[0m \u001b[0mself\u001b[0m\u001b[0;34m.\u001b[0m\u001b[0m_make_engine\u001b[0m\u001b[0;34m(\u001b[0m\u001b[0mf\u001b[0m\u001b[0;34m,\u001b[0m \u001b[0mself\u001b[0m\u001b[0;34m.\u001b[0m\u001b[0mengine\u001b[0m\u001b[0;34m)\u001b[0m\u001b[0;34m\u001b[0m\u001b[0;34m\u001b[0m\u001b[0m\n\u001b[0m\u001b[1;32m   1621\u001b[0m \u001b[0;34m\u001b[0m\u001b[0m\n\u001b[1;32m   1622\u001b[0m     \u001b[0;32mdef\u001b[0m \u001b[0mclose\u001b[0m\u001b[0;34m(\u001b[0m\u001b[0mself\u001b[0m\u001b[0;34m)\u001b[0m \u001b[0;34m->\u001b[0m \u001b[0;32mNone\u001b[0m\u001b[0;34m:\u001b[0m\u001b[0;34m\u001b[0m\u001b[0;34m\u001b[0m\u001b[0m\n",
            "\u001b[0;32m/usr/local/lib/python3.11/dist-packages/pandas/io/parsers/readers.py\u001b[0m in \u001b[0;36m_make_engine\u001b[0;34m(self, f, engine)\u001b[0m\n\u001b[1;32m   1878\u001b[0m                 \u001b[0;32mif\u001b[0m \u001b[0;34m\"b\"\u001b[0m \u001b[0;32mnot\u001b[0m \u001b[0;32min\u001b[0m \u001b[0mmode\u001b[0m\u001b[0;34m:\u001b[0m\u001b[0;34m\u001b[0m\u001b[0;34m\u001b[0m\u001b[0m\n\u001b[1;32m   1879\u001b[0m                     \u001b[0mmode\u001b[0m \u001b[0;34m+=\u001b[0m \u001b[0;34m\"b\"\u001b[0m\u001b[0;34m\u001b[0m\u001b[0;34m\u001b[0m\u001b[0m\n\u001b[0;32m-> 1880\u001b[0;31m             self.handles = get_handle(\n\u001b[0m\u001b[1;32m   1881\u001b[0m                 \u001b[0mf\u001b[0m\u001b[0;34m,\u001b[0m\u001b[0;34m\u001b[0m\u001b[0;34m\u001b[0m\u001b[0m\n\u001b[1;32m   1882\u001b[0m                 \u001b[0mmode\u001b[0m\u001b[0;34m,\u001b[0m\u001b[0;34m\u001b[0m\u001b[0;34m\u001b[0m\u001b[0m\n",
            "\u001b[0;32m/usr/local/lib/python3.11/dist-packages/pandas/io/common.py\u001b[0m in \u001b[0;36mget_handle\u001b[0;34m(path_or_buf, mode, encoding, compression, memory_map, is_text, errors, storage_options)\u001b[0m\n\u001b[1;32m    871\u001b[0m         \u001b[0;32mif\u001b[0m \u001b[0mioargs\u001b[0m\u001b[0;34m.\u001b[0m\u001b[0mencoding\u001b[0m \u001b[0;32mand\u001b[0m \u001b[0;34m\"b\"\u001b[0m \u001b[0;32mnot\u001b[0m \u001b[0;32min\u001b[0m \u001b[0mioargs\u001b[0m\u001b[0;34m.\u001b[0m\u001b[0mmode\u001b[0m\u001b[0;34m:\u001b[0m\u001b[0;34m\u001b[0m\u001b[0;34m\u001b[0m\u001b[0m\n\u001b[1;32m    872\u001b[0m             \u001b[0;31m# Encoding\u001b[0m\u001b[0;34m\u001b[0m\u001b[0;34m\u001b[0m\u001b[0m\n\u001b[0;32m--> 873\u001b[0;31m             handle = open(\n\u001b[0m\u001b[1;32m    874\u001b[0m                 \u001b[0mhandle\u001b[0m\u001b[0;34m,\u001b[0m\u001b[0;34m\u001b[0m\u001b[0;34m\u001b[0m\u001b[0m\n\u001b[1;32m    875\u001b[0m                 \u001b[0mioargs\u001b[0m\u001b[0;34m.\u001b[0m\u001b[0mmode\u001b[0m\u001b[0;34m,\u001b[0m\u001b[0;34m\u001b[0m\u001b[0;34m\u001b[0m\u001b[0m\n",
            "\u001b[0;31mFileNotFoundError\u001b[0m: [Errno 2] No such file or directory: '/netflix_titles.csv'"
          ]
        }
      ]
    },
    {
      "cell_type": "code",
      "source": [
        "#part 2 advanced EDA\n",
        "# Focus on movies for numerical analysis (assumes 'duration' for movies is in format \"90 min\")\n",
        "movies = df[df['type'] == 'Movie'].copy()\n",
        "\n",
        "# Extract numeric duration from the 'duration' column (e.g., \"90 min\")\n",
        "movies['duration_num'] = movies['duration'].str.extract('(\\d+)').astype(float)\n"
      ],
      "metadata": {
        "id": "UU6IAloaKbm0",
        "outputId": "ddc95c12-bd45-489e-c77d-29e02ee5ac94",
        "colab": {
          "base_uri": "https://localhost:8080/",
          "height": 207
        }
      },
      "execution_count": 6,
      "outputs": [
        {
          "output_type": "error",
          "ename": "NameError",
          "evalue": "name 'df' is not defined",
          "traceback": [
            "\u001b[0;31m---------------------------------------------------------------------------\u001b[0m",
            "\u001b[0;31mNameError\u001b[0m                                 Traceback (most recent call last)",
            "\u001b[0;32m<ipython-input-6-87f932778f69>\u001b[0m in \u001b[0;36m<cell line: 0>\u001b[0;34m()\u001b[0m\n\u001b[1;32m      1\u001b[0m \u001b[0;31m#part 2 advanced EDA\u001b[0m\u001b[0;34m\u001b[0m\u001b[0;34m\u001b[0m\u001b[0m\n\u001b[1;32m      2\u001b[0m \u001b[0;31m# Focus on movies for numerical analysis (assumes 'duration' for movies is in format \"90 min\")\u001b[0m\u001b[0;34m\u001b[0m\u001b[0;34m\u001b[0m\u001b[0m\n\u001b[0;32m----> 3\u001b[0;31m \u001b[0mmovies\u001b[0m \u001b[0;34m=\u001b[0m \u001b[0mdf\u001b[0m\u001b[0;34m[\u001b[0m\u001b[0mdf\u001b[0m\u001b[0;34m[\u001b[0m\u001b[0;34m'type'\u001b[0m\u001b[0;34m]\u001b[0m \u001b[0;34m==\u001b[0m \u001b[0;34m'Movie'\u001b[0m\u001b[0;34m]\u001b[0m\u001b[0;34m.\u001b[0m\u001b[0mcopy\u001b[0m\u001b[0;34m(\u001b[0m\u001b[0;34m)\u001b[0m\u001b[0;34m\u001b[0m\u001b[0;34m\u001b[0m\u001b[0m\n\u001b[0m\u001b[1;32m      4\u001b[0m \u001b[0;34m\u001b[0m\u001b[0m\n\u001b[1;32m      5\u001b[0m \u001b[0;31m# Extract numeric duration from the 'duration' column (e.g., \"90 min\")\u001b[0m\u001b[0;34m\u001b[0m\u001b[0;34m\u001b[0m\u001b[0m\n",
            "\u001b[0;31mNameError\u001b[0m: name 'df' is not defined"
          ]
        }
      ]
    },
    {
      "cell_type": "code",
      "source": [],
      "metadata": {
        "id": "59_p58md6TRh"
      },
      "execution_count": null,
      "outputs": []
    },
    {
      "cell_type": "code",
      "source": [
        "# Create a correlation matrix for 'release_year' and 'duration_num'\n",
        "corr_matrix = movies[['release_year', 'duration_num']].corr()\n",
        "\n",
        "# Plot correlation heatmap\n",
        "plt.figure(figsize=(6, 4))\n",
        "sns.heatmap(corr_matrix, annot=True, cmap='coolwarm', fmt=\".2f\")\n",
        "plt.title(\"Correlation Heatmap: Release Year vs. Duration (Movies)\")\n",
        "plt.show()"
      ],
      "metadata": {
        "colab": {
          "base_uri": "https://localhost:8080/",
          "height": 391
        },
        "id": "bP-W8YyAK5V9",
        "outputId": "43548310-435b-4f6a-f632-96333cb5466a"
      },
      "execution_count": null,
      "outputs": [
        {
          "output_type": "display_data",
          "data": {
            "text/plain": [
              "<Figure size 600x400 with 2 Axes>"
            ],
            "image/png": "[encoded data removed]"
          },
          "metadata": {}
        }
      ]
    },
    {
      "cell_type": "code",
      "source": [
        "#Enhanced Visualizations: Distribution of Release Year & Duration\n",
        "plt.figure(figsize=(12, 5))\n",
        "\n",
        "# Subplot 1: Distribution of Release Years\n",
        "plt.subplot(1, 2, 1)\n",
        "sns.histplot(movies['release_year'], kde=True, color='skyblue')\n",
        "plt.title(\"Distribution of Release Years\")\n",
        "plt.xlabel(\"Release Year\")\n",
        "plt.ylabel(\"Frequency\")\n",
        "\n",
        "# Subplot 2: Distribution of Movie Duration (minutes)\n",
        "plt.subplot(1, 2, 2)\n",
        "sns.histplot(movies['duration_num'], kde=True, color='salmon')\n",
        "plt.title(\"Distribution of Movie Duration\")\n",
        "plt.xlabel(\"Duration (minutes)\")\n",
        "plt.ylabel(\"Frequency\")\n",
        "\n",
        "plt.tight_layout()\n",
        "plt.show()\n"
      ],
      "metadata": {
        "id": "BgLnFeXALN7y"
      },
      "execution_count": null,
      "outputs": []
    },
    {
      "cell_type": "code",
      "source": [
        "#Scaling Numerical Features\n",
        "scaler = StandardScaler()\n",
        "movies['duration_scaled'] = scaler.fit_transform(movies[['duration_num']])"
      ],
      "metadata": {
        "id": "sTKzdaotLUmM",
        "outputId": "46aa5496-e0b7-4aa9-fd89-a4f8229423c4",
        "colab": {
          "base_uri": "https://localhost:8080/",
          "height": 173
        }
      },
      "execution_count": 1,
      "outputs": [
        {
          "output_type": "error",
          "ename": "NameError",
          "evalue": "name 'StandardScaler' is not defined",
          "traceback": [
            "\u001b[0;31m---------------------------------------------------------------------------\u001b[0m",
            "\u001b[0;31mNameError\u001b[0m                                 Traceback (most recent call last)",
            "\u001b[0;32m<ipython-input-1-e158506529c2>\u001b[0m in \u001b[0;36m<cell line: 0>\u001b[0;34m()\u001b[0m\n\u001b[1;32m      1\u001b[0m \u001b[0;31m#Scaling Numerical Features\u001b[0m\u001b[0;34m\u001b[0m\u001b[0;34m\u001b[0m\u001b[0m\n\u001b[0;32m----> 2\u001b[0;31m \u001b[0mscaler\u001b[0m \u001b[0;34m=\u001b[0m \u001b[0mStandardScaler\u001b[0m\u001b[0;34m(\u001b[0m\u001b[0;34m)\u001b[0m\u001b[0;34m\u001b[0m\u001b[0;34m\u001b[0m\u001b[0m\n\u001b[0m\u001b[1;32m      3\u001b[0m \u001b[0mmovies\u001b[0m\u001b[0;34m[\u001b[0m\u001b[0;34m'duration_scaled'\u001b[0m\u001b[0;34m]\u001b[0m \u001b[0;34m=\u001b[0m \u001b[0mscaler\u001b[0m\u001b[0;34m.\u001b[0m\u001b[0mfit_transform\u001b[0m\u001b[0;34m(\u001b[0m\u001b[0mmovies\u001b[0m\u001b[0;34m[\u001b[0m\u001b[0;34m[\u001b[0m\u001b[0;34m'duration_num'\u001b[0m\u001b[0;34m]\u001b[0m\u001b[0;34m]\u001b[0m\u001b[0;34m)\u001b[0m\u001b[0;34m\u001b[0m\u001b[0;34m\u001b[0m\u001b[0m\n",
            "\u001b[0;31mNameError\u001b[0m: name 'StandardScaler' is not defined"
          ]
        }
      ]
    },
    {
      "cell_type": "code",
      "source": [
        "# One-hot encode the 'rating' column; drop the first category to avoid dummy variable trap\n",
        "movies_encoded = pd.get_dummies(movies, columns=['rating'], drop_first=True)"
      ],
      "metadata": {
        "id": "Eabi7y1jNCXc"
      },
      "execution_count": null,
      "outputs": []
    },
    {
      "cell_type": "code",
      "source": [
        "# Clip movie durations to a maximum of 300 minutes\n",
        "movies['duration_clipped'] = movies['duration_num'].clip(upper=300)\n"
      ],
      "metadata": {
        "id": "mK53AyLkNF3n"
      },
      "execution_count": null,
      "outputs": []
    },
    {
      "cell_type": "code",
      "source": [
        "#  Data Preparation for Modeling\n",
        "# Define features and target. Here we use 'release_year' and 'duration_scaled' as features.\n",
        "features = ['release_year', 'duration_scaled']\n",
        "target = 'duration_num'\n",
        "from sklearn.impute import SimpleImputer"
      ],
      "metadata": {
        "id": "vgZhPzc35Sj9"
      },
      "execution_count": null,
      "outputs": []
    },
    {
      "cell_type": "code",
      "source": [
        "\n",
        "# Split the data into training and testing sets (80/20 split)\n",
        "X = movies[features]\n",
        "y = movies[target]\n",
        "X_train, X_test, y_train, y_test = train_test_split(X, y, test_size=0.2, random_state=42)"
      ],
      "metadata": {
        "id": "YcV-9HJb5V2x"
      },
      "execution_count": null,
      "outputs": []
    },
    {
      "cell_type": "code",
      "source": [
        "# Manually fill NaN values with the mean of each column in the training set\n",
        "X_train = X_train.fillna(X_train.mean())  # Fill NaNs in X_train\n",
        "X_test = X_test.fillna(X_train.mean())   # Fill NaNs in X_test using"
      ],
      "metadata": {
        "id": "IPTiZuud6fXf"
      },
      "execution_count": null,
      "outputs": []
    },
    {
      "cell_type": "code",
      "source": [
        "\n",
        "# Initialize an imputer for numerical features with a mean strategy\n",
        "imputer = SimpleImputer(strategy='mean')"
      ],
      "metadata": {
        "id": "r6cNJt-k5cE8"
      },
      "execution_count": null,
      "outputs": []
    },
    {
      "cell_type": "code",
      "source": [
        "\n",
        "# Fit the imputer on the training data and transform both training and test data\n",
        "X_train_imputed = imputer.fit_transform(X_train)\n",
        "X_test_imputed = imputer.transform(X_test)"
      ],
      "metadata": {
        "id": "9qfuV5Da5fQI"
      },
      "execution_count": null,
      "outputs": []
    },
    {
      "cell_type": "code",
      "source": [
        "# Ensure features and target are numeric (before fitting the model)\n",
        "X_train = X_train.astype(np.float64)  # Convert X_train to float64\n",
        "X_test = X_test.astype(np.float64)  # Convert X_test to float64\n",
        "y_train = y_train.astype(np.float64)  # Convert y_train to float64"
      ],
      "metadata": {
        "id": "JArfS7_t53eJ"
      },
      "execution_count": null,
      "outputs": []
    },
    {
      "cell_type": "code",
      "source": [
        "y_train = y_train.dropna()  # Remove rows with NaN in y_train\n"
      ],
      "metadata": {
        "id": "jq2-wktt6sDc"
      },
      "execution_count": null,
      "outputs": []
    },
    {
      "cell_type": "code",
      "source": [
        "X_train = X_train.loc[y_train.index]  # Keep only rows in X_train with indices in y_train\n"
      ],
      "metadata": {
        "id": "_n_qi4jF6tBi"
      },
      "execution_count": null,
      "outputs": []
    },
    {
      "cell_type": "code",
      "source": [
        "# Baseline Model 1: Linear Regression\n",
        "lr_model = LinearRegression()\n",
        "lr_model.fit(X_train, y_train)\n",
        "y_pred_lr = lr_model.predict(X_test)\n"
      ],
      "metadata": {
        "id": "-j2gZFQ95h7M"
      },
      "execution_count": null,
      "outputs": []
    },
    {
      "cell_type": "code",
      "source": [
        "# Evaluate the Linear Regression model\n",
        "r2_lr = r2_score(y_test, y_pred_lr)\n",
        "rmse_lr = np.sqrt(mean_squared_error(y_test, y_pred_lr))\n",
        "mae_lr = mean_absolute_error(y_test, y_pred_lr)\n",
        "\n",
        "print(\"Linear Regression Performance:\")\n",
        "print(f\"R²: {r2_lr:.2f}, RMSE: {rmse_lr:.2f}, MAE: {mae_lr:.2f}\")"
      ],
      "metadata": {
        "id": "p1tRolyNNJag"
      },
      "execution_count": null,
      "outputs": []
    },
    {
      "cell_type": "code",
      "source": [
        "# Baseline Model 2: Random Forest Regressor\n",
        "rf_model = RandomForestRegressor(n_estimators=100, random_state=42)\n",
        "rf_model.fit(X_train, y_train)\n",
        "y_pred_rf = rf_model.predict(X_test)\n",
        "\n",
        "# Evaluate the Random Forest model\n",
        "r2_rf = r2_score(y_test, y_pred_rf)\n",
        "rmse_rf = np.sqrt(mean_squared_error(y_test, y_pred_rf))\n",
        "mae_rf = mean_absolute_error(y_test, y_pred_rf)\n",
        "\n",
        "print(\"Random Forest Regressor Performance:\")\n",
        "print(f\"R²: {r2_rf:.2f}, RMSE: {rmse_rf:.2f}, MAE: {mae_rf:.2f}\")\n",
        "\n",
        "# Feature Importance Analysis (Random Forest)\n",
        "feature_importances = pd.Series(rf_model.feature_importances_, index=features)\n",
        "print(\"Random Forest Feature Importances:\")\n",
        "print(feature_importances.sort_values(ascending=False))\n"
      ],
      "metadata": {
        "id": "C76dHyj6N54H"
      },
      "execution_count": null,
      "outputs": []
    },
    {
      "cell_type": "code",
      "source": [
        "# =============================================================================\n",
        "# Extended Analytics: Additional Exploratory Data Analysis on Netflix Dataset\n",
        "# =============================================================================\n",
        "\n",
        "# -----------------------------------------------------------------------------\n",
        "# 1. Distribution of Content Types by Country\n",
        "# -----------------------------------------------------------------------------\n",
        "# Count the number of movies and TV shows available by country.\n",
        "# Since a title can be associated with multiple countries, we first split the 'country' column.\n",
        "df ['country'] = df ['country'].fillna('Unknown')  # Replace missing countries with 'Unknown'\n",
        "df ['country_list'] = df ['country'].str.split(', ')\n",
        "\n",
        "# Explode the dataframe to have one country per row\n",
        "df_exploded = df.explode('country_list')\n",
        "\n",
        "# Group by country and type, then count titles\n",
        "country_content = df_exploded.groupby(['country_list', 'type']).size().unstack(fill_value=0)\n",
        "\n",
        "# Plot a bar chart for the top 10 countries by total number of titles\n",
        "top_countries = country_content.sum(axis=1).nlargest(10).index\n",
        "country_content_top = country_content.loc[top_countries]\n",
        "\n",
        "country_content_top.plot(kind='bar', stacked=True, figsize=(10, 6), colormap='Paired')\n",
        "plt.title(\"Distribution of Content Types by Top 10 Countries\")\n",
        "plt.xlabel(\"Country\")\n",
        "plt.ylabel(\"Number of Titles\")\n",
        "plt.legend(title=\"Content Type\")\n",
        "plt.xticks(rotation=45)\n",
        "plt.tight_layout()\n",
        "plt.show()\n",
        "\n",
        "# -----------------------------------------------------------------------------\n",
        "# Text Box (Extended Analytics):\n",
        "# -----------------------------------------------------------------------------\n",
        "# Here, we analyzed the distribution of content types (Movies vs. TV Shows) across the top 10 countries.\n",
        "# This helps identify which regions have a more balanced or skewed mix of content, supporting strategic\n",
        "# decisions in content acquisition and localization.\n",
        "\n",
        "# -----------------------------------------------------------------------------\n",
        "# 2. Rating Frequency Analysis\n",
        "# -----------------------------------------------------------------------------\n",
        "# Analyze the frequency distribution of ratings across the dataset.\n",
        "# Replace missing ratings with 'Not Rated' for visualization purposes.\n",
        "df['rating'] = df['rating'].fillna('Not Rated')\n",
        "rating_counts = df['rating'].value_counts()\n",
        "\n",
        "plt.figure(figsize=(10, 6))\n",
        "sns.barplot(x=rating_counts.index, y=rating_counts.values, palette='viridis')\n",
        "plt.title(\"Frequency Distribution of Ratings\")\n",
        "plt.xlabel(\"Rating\")\n",
        "plt.ylabel(\"Count\")\n",
        "plt.xticks(rotation=45)\n",
        "plt.tight_layout()\n",
        "plt.show()\n",
        "\n",
        "# -----------------------------------------------------------------------------\n",
        "# Text Box (Extended Analytics):\n",
        "# -----------------------------------------------------------------------------\n",
        "# This bar chart shows how content is rated on Netflix. It highlights which ratings are most common,\n",
        "# thereby offering insight into the audience the platform caters to (e.g., prevalence of mature content vs. family-friendly content).\n",
        "\n",
        "# -----------------------------------------------------------------------------\n",
        "# 3. Pairplot of Selected Features\n",
        "# -----------------------------------------------------------------------------\n",
        "# For deeper insight, we can create a pairplot to observe relationships among several numeric features.\n",
        "# We use movies for this analysis, considering features such as 'release_year', 'duration_num', and 'year_added'.\n",
        "# We'll add the scaled duration feature as well.\n",
        "sns.pairplot(movies[['release_year', 'duration_num', 'year_added', 'duration_scaled']])\n",
        "plt.suptitle(\"Pairplot of Selected Movie Features\", y=1.02)\n",
        "plt.show()\n",
        "\n",
        "# -----------------------------------------------------------------------------\n",
        "# Text Box (Extended Analytics):\n",
        "# -----------------------------------------------------------------------------\n",
        "# The pairplot visualizes pairwise relationships between key numerical features.\n",
        "# It aids in detecting patterns or correlations that might not be evident from simple correlation matrices alone.\n",
        "\n",
        "# -----------------------------------------------------------------------------\n",
        "# 4. Temporal Trend by Content Type (Extended Analysis)\n",
        "# -----------------------------------------------------------------------------\n",
        "# Analyze the trend of content additions over time, broken down by both movies and TV shows.\n",
        "# Group by year_added and type.\n",
        "content_trend_all = df.groupby(['year_added', 'type']).size().unstack(fill_value=0)\n",
        "\n",
        "plt.figure(figsize=(12, 6))\n",
        "content_trend_all.plot(kind='line', marker='o', colormap='tab10', linewidth=2)\n",
        "plt.title(\"Temporal Trend of Content Additions by Type\")\n",
        "plt.xlabel(\"Year Added\")\n",
        "plt.ylabel(\"Number of Titles\")\n",
        "plt.legend(title=\"Content Type\")\n",
        "plt.grid(True, linestyle=\"--\", alpha=0.5)\n",
        "plt.tight_layout()\n",
        "plt.show()\n",
        "\n",
        "# -----------------------------------------------------------------------------\n",
        "# Text Box (Extended Analytics):\n",
        "# -----------------------------------------------------------------------------\n",
        "# This line plot provides a temporal analysis of content additions to Netflix,\n",
        "# segmented by content type. It further supports the understanding of content expansion\n",
        "# strategies over time and can be pivotal for forecasting future trends.\n",
        "\n",
        "# =============================================================================\n",
        "# End of Extended Analytics Section\n",
        "# =============================================================================\n"
      ],
      "metadata": {
        "id": "K-ZAWdxfO4Sl"
      },
      "execution_count": null,
      "outputs": []
    }
  ]
}